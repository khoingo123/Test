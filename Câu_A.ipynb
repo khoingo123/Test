{
  "nbformat": 4,
  "nbformat_minor": 0,
  "metadata": {
    "colab": {
      "name": "Câu A.ipynb",
      "provenance": []
    },
    "kernelspec": {
      "name": "python3",
      "display_name": "Python 3"
    },
    "language_info": {
      "name": "python"
    }
  },
  "cells": [
    {
      "cell_type": "code",
      "metadata": {
        "id": "6m3qiR5_BePm"
      },
      "source": [
        "import pandas as pd\n",
        "import numpy as np"
      ],
      "execution_count": 1,
      "outputs": []
    },
    {
      "cell_type": "code",
      "metadata": {
        "colab": {
          "base_uri": "https://localhost:8080/",
          "height": 206
        },
        "id": "2TE17OvvDVd0",
        "outputId": "bfba2f3b-8845-4c44-8c84-1381017903ad"
      },
      "source": [
        "table_1 = pd.read_excel('A. Google Sheets_Excel.xlsx', sheet_name=0)\n",
        "table_2 = pd.read_excel('A. Google Sheets_Excel.xlsx', sheet_name=1)\n",
        "table_1.head()"
      ],
      "execution_count": 19,
      "outputs": [
        {
          "output_type": "execute_result",
          "data": {
            "text/html": [
              "<div>\n",
              "<style scoped>\n",
              "    .dataframe tbody tr th:only-of-type {\n",
              "        vertical-align: middle;\n",
              "    }\n",
              "\n",
              "    .dataframe tbody tr th {\n",
              "        vertical-align: top;\n",
              "    }\n",
              "\n",
              "    .dataframe thead th {\n",
              "        text-align: right;\n",
              "    }\n",
              "</style>\n",
              "<table border=\"1\" class=\"dataframe\">\n",
              "  <thead>\n",
              "    <tr style=\"text-align: right;\">\n",
              "      <th></th>\n",
              "      <th>Date</th>\n",
              "      <th>Gender</th>\n",
              "      <th>Country</th>\n",
              "      <th>Cost</th>\n",
              "    </tr>\n",
              "  </thead>\n",
              "  <tbody>\n",
              "    <tr>\n",
              "      <th>0</th>\n",
              "      <td>2021-08-19</td>\n",
              "      <td>Female</td>\n",
              "      <td>EE</td>\n",
              "      <td>439.230099</td>\n",
              "    </tr>\n",
              "    <tr>\n",
              "      <th>1</th>\n",
              "      <td>2021-10-23</td>\n",
              "      <td>Female</td>\n",
              "      <td>UA</td>\n",
              "      <td>304.409672</td>\n",
              "    </tr>\n",
              "    <tr>\n",
              "      <th>2</th>\n",
              "      <td>2021-11-07</td>\n",
              "      <td>Male</td>\n",
              "      <td>ID</td>\n",
              "      <td>68.571451</td>\n",
              "    </tr>\n",
              "    <tr>\n",
              "      <th>3</th>\n",
              "      <td>2021-10-21</td>\n",
              "      <td>Female</td>\n",
              "      <td>NL</td>\n",
              "      <td>859.288209</td>\n",
              "    </tr>\n",
              "    <tr>\n",
              "      <th>4</th>\n",
              "      <td>2021-10-28</td>\n",
              "      <td>Male</td>\n",
              "      <td>FI</td>\n",
              "      <td>434.228491</td>\n",
              "    </tr>\n",
              "  </tbody>\n",
              "</table>\n",
              "</div>"
            ],
            "text/plain": [
              "        Date  Gender Country        Cost\n",
              "0 2021-08-19  Female      EE  439.230099\n",
              "1 2021-10-23  Female      UA  304.409672\n",
              "2 2021-11-07    Male      ID   68.571451\n",
              "3 2021-10-21  Female      NL  859.288209\n",
              "4 2021-10-28    Male      FI  434.228491"
            ]
          },
          "metadata": {},
          "execution_count": 19
        }
      ]
    },
    {
      "cell_type": "code",
      "metadata": {
        "colab": {
          "base_uri": "https://localhost:8080/",
          "height": 206
        },
        "id": "KDLVeQUaDb_V",
        "outputId": "4e4211c5-064f-4436-f0bf-d395e40386d4"
      },
      "source": [
        "final_table_1 = table_1.merge(table_2, left_on=['Date', 'Gender', 'Country'], right_on=['Date', 'Gender', 'Country'])\n",
        "final_table_1['ROAS'] = final_table_1['Revenue'] / final_table_1['Cost']\n",
        "final_table_1.head()"
      ],
      "execution_count": 25,
      "outputs": [
        {
          "output_type": "execute_result",
          "data": {
            "text/html": [
              "<div>\n",
              "<style scoped>\n",
              "    .dataframe tbody tr th:only-of-type {\n",
              "        vertical-align: middle;\n",
              "    }\n",
              "\n",
              "    .dataframe tbody tr th {\n",
              "        vertical-align: top;\n",
              "    }\n",
              "\n",
              "    .dataframe thead th {\n",
              "        text-align: right;\n",
              "    }\n",
              "</style>\n",
              "<table border=\"1\" class=\"dataframe\">\n",
              "  <thead>\n",
              "    <tr style=\"text-align: right;\">\n",
              "      <th></th>\n",
              "      <th>Date</th>\n",
              "      <th>Gender</th>\n",
              "      <th>Country</th>\n",
              "      <th>Cost</th>\n",
              "      <th>Revenue</th>\n",
              "      <th>ROAS</th>\n",
              "    </tr>\n",
              "  </thead>\n",
              "  <tbody>\n",
              "    <tr>\n",
              "      <th>0</th>\n",
              "      <td>2021-10-21</td>\n",
              "      <td>Female</td>\n",
              "      <td>NL</td>\n",
              "      <td>859.288209</td>\n",
              "      <td>250.022329</td>\n",
              "      <td>0.290964</td>\n",
              "    </tr>\n",
              "    <tr>\n",
              "      <th>1</th>\n",
              "      <td>2021-10-28</td>\n",
              "      <td>Male</td>\n",
              "      <td>FI</td>\n",
              "      <td>434.228491</td>\n",
              "      <td>434.822457</td>\n",
              "      <td>1.001368</td>\n",
              "    </tr>\n",
              "    <tr>\n",
              "      <th>2</th>\n",
              "      <td>2021-08-04</td>\n",
              "      <td>Female</td>\n",
              "      <td>MX</td>\n",
              "      <td>863.948960</td>\n",
              "      <td>268.955288</td>\n",
              "      <td>0.311309</td>\n",
              "    </tr>\n",
              "    <tr>\n",
              "      <th>3</th>\n",
              "      <td>2021-09-01</td>\n",
              "      <td>Female</td>\n",
              "      <td>ES</td>\n",
              "      <td>866.299453</td>\n",
              "      <td>144.263409</td>\n",
              "      <td>0.166528</td>\n",
              "    </tr>\n",
              "    <tr>\n",
              "      <th>4</th>\n",
              "      <td>2021-08-13</td>\n",
              "      <td>Male</td>\n",
              "      <td>RO</td>\n",
              "      <td>647.037644</td>\n",
              "      <td>279.488177</td>\n",
              "      <td>0.431950</td>\n",
              "    </tr>\n",
              "  </tbody>\n",
              "</table>\n",
              "</div>"
            ],
            "text/plain": [
              "        Date  Gender Country        Cost     Revenue      ROAS\n",
              "0 2021-10-21  Female      NL  859.288209  250.022329  0.290964\n",
              "1 2021-10-28    Male      FI  434.228491  434.822457  1.001368\n",
              "2 2021-08-04  Female      MX  863.948960  268.955288  0.311309\n",
              "3 2021-09-01  Female      ES  866.299453  144.263409  0.166528\n",
              "4 2021-08-13    Male      RO  647.037644  279.488177  0.431950"
            ]
          },
          "metadata": {},
          "execution_count": 25
        }
      ]
    },
    {
      "cell_type": "code",
      "metadata": {
        "colab": {
          "base_uri": "https://localhost:8080/",
          "height": 206
        },
        "id": "smN6scl1EiaV",
        "outputId": "8b99050f-5d52-4608-95c6-9bb7ac5b5df8"
      },
      "source": [
        "final_table_2 = table_1.merge(table_2, left_on=['Date', 'Country'], right_on=['Date', 'Country'])\n",
        "final_table_2['ROAS'] = final_table_2['Revenue'] / final_table_2['Cost']\n",
        "final_table_2.drop(columns=['Gender_x', 'Gender_y'], inplace=True)\n",
        "final_table_2.head()"
      ],
      "execution_count": 26,
      "outputs": [
        {
          "output_type": "execute_result",
          "data": {
            "text/html": [
              "<div>\n",
              "<style scoped>\n",
              "    .dataframe tbody tr th:only-of-type {\n",
              "        vertical-align: middle;\n",
              "    }\n",
              "\n",
              "    .dataframe tbody tr th {\n",
              "        vertical-align: top;\n",
              "    }\n",
              "\n",
              "    .dataframe thead th {\n",
              "        text-align: right;\n",
              "    }\n",
              "</style>\n",
              "<table border=\"1\" class=\"dataframe\">\n",
              "  <thead>\n",
              "    <tr style=\"text-align: right;\">\n",
              "      <th></th>\n",
              "      <th>Date</th>\n",
              "      <th>Country</th>\n",
              "      <th>Cost</th>\n",
              "      <th>Revenue</th>\n",
              "      <th>ROAS</th>\n",
              "    </tr>\n",
              "  </thead>\n",
              "  <tbody>\n",
              "    <tr>\n",
              "      <th>0</th>\n",
              "      <td>2021-10-23</td>\n",
              "      <td>UA</td>\n",
              "      <td>304.409672</td>\n",
              "      <td>459.176050</td>\n",
              "      <td>1.508415</td>\n",
              "    </tr>\n",
              "    <tr>\n",
              "      <th>1</th>\n",
              "      <td>2021-10-23</td>\n",
              "      <td>UA</td>\n",
              "      <td>304.409672</td>\n",
              "      <td>77.524673</td>\n",
              "      <td>0.254672</td>\n",
              "    </tr>\n",
              "    <tr>\n",
              "      <th>2</th>\n",
              "      <td>2021-10-21</td>\n",
              "      <td>NL</td>\n",
              "      <td>859.288209</td>\n",
              "      <td>250.022329</td>\n",
              "      <td>0.290964</td>\n",
              "    </tr>\n",
              "    <tr>\n",
              "      <th>3</th>\n",
              "      <td>2021-10-28</td>\n",
              "      <td>FI</td>\n",
              "      <td>434.228491</td>\n",
              "      <td>434.822457</td>\n",
              "      <td>1.001368</td>\n",
              "    </tr>\n",
              "    <tr>\n",
              "      <th>4</th>\n",
              "      <td>2021-08-04</td>\n",
              "      <td>MX</td>\n",
              "      <td>863.948960</td>\n",
              "      <td>268.955288</td>\n",
              "      <td>0.311309</td>\n",
              "    </tr>\n",
              "  </tbody>\n",
              "</table>\n",
              "</div>"
            ],
            "text/plain": [
              "        Date Country        Cost     Revenue      ROAS\n",
              "0 2021-10-23      UA  304.409672  459.176050  1.508415\n",
              "1 2021-10-23      UA  304.409672   77.524673  0.254672\n",
              "2 2021-10-21      NL  859.288209  250.022329  0.290964\n",
              "3 2021-10-28      FI  434.228491  434.822457  1.001368\n",
              "4 2021-08-04      MX  863.948960  268.955288  0.311309"
            ]
          },
          "metadata": {},
          "execution_count": 26
        }
      ]
    }
  ]
}